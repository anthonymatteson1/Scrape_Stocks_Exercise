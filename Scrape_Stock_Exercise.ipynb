{
 "cells": [
  {
   "cell_type": "code",
   "execution_count": 4,
   "id": "b1692e45",
   "metadata": {
    "scrolled": false
   },
   "outputs": [
    {
     "name": "stdout",
     "output_type": "stream",
     "text": [
      "Data written to CSV!\n"
     ]
    }
   ],
   "source": [
    "from selenium import webdriver\n",
    "import time\n",
    "import csv\n",
    "from datetime import datetime\n",
    "import yagmail\n",
    "import os\n",
    "\n",
    "\n",
    "def get_driver():\n",
    "    # Set options to make browsing easier\n",
    "    options = webdriver.ChromeOptions()\n",
    "    options.add_argument(\"disable-infobars\")\n",
    "    options.add_argument(\"start-maximized\")\n",
    "    options.add_argument(\"disable-dev-shm-usage\")\n",
    "    options.add_argument(\"no-sandbox\")\n",
    "    options.add_experimental_option(\"excludeSwitches\", [\"enable-automation\"])\n",
    "    options.add_argument(\"disable-blank-features = AutomationControlled\")\n",
    "\n",
    "    driver = webdriver.Chrome(options=options)\n",
    "    driver.get(\"https://zse.hr/en/indeks-366/365?isin=HRZB00ICBEX6\")\n",
    "    return driver\n",
    "\n",
    "\n",
    "def clean_text(text):\n",
    "    \"\"\"Extract only the temperature from text\"\"\"\n",
    "    output = float(text.split(\" \")[0])\n",
    "    return output\n",
    "\n",
    "\n",
    "def write_to_csv(price):\n",
    "    with open('stock_prices.csv', mode='a') as csv_file:\n",
    "        fieldnames = ['timestamp', 'price']\n",
    "        writer = csv.DictWriter(csv_file, fieldnames=fieldnames)\n",
    "\n",
    "        writer.writeheader()\n",
    "        writer.writerow({'timestamp': datetime.now(), 'price': price})\n",
    "    print(\"Data written to CSV!\")\n",
    "\n",
    "\n",
    "\n",
    "\n",
    "def main():\n",
    "    driver = get_driver()\n",
    "    time.sleep(2)\n",
    "    element = driver.find_element(by=\"xpath\",\n",
    "                                    value='//*[@id=\"app_indeks\"]/section[1]/div/div/div[2]/span[2]')\n",
    "    text = str(clean_text(element.text))\n",
    "    \n",
    "    if(float(text) < -0.10):\n",
    "        write_to_csv(str(text))\n",
    "\n",
    "\n",
    "\n",
    "main()"
   ]
  }
 ],
 "metadata": {
  "kernelspec": {
   "display_name": "Python 3 (ipykernel)",
   "language": "python",
   "name": "python3"
  },
  "language_info": {
   "codemirror_mode": {
    "name": "ipython",
    "version": 3
   },
   "file_extension": ".py",
   "mimetype": "text/x-python",
   "name": "python",
   "nbconvert_exporter": "python",
   "pygments_lexer": "ipython3",
   "version": "3.9.13"
  }
 },
 "nbformat": 4,
 "nbformat_minor": 5
}
